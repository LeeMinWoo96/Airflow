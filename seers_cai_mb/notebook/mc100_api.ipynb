{
 "cells": [
  {
   "cell_type": "markdown",
   "metadata": {},
   "source": [
    "## mobiCARE Cardio-Server 연동 가이드\n",
    "Version 01.01"
   ]
  },
  {
   "cell_type": "code",
   "execution_count": 1,
   "metadata": {},
   "outputs": [],
   "source": [
    "import os\n",
    "import requests\n",
    "from collections import OrderedDict\n",
    "import json\n",
    "# from utils import *\n",
    "\n",
    "import time\n",
    "import datetime\n",
    "import socket\n",
    "import urllib\n",
    "import re"
   ]
  },
  {
   "cell_type": "code",
   "execution_count": 2,
   "metadata": {},
   "outputs": [],
   "source": [
    "URL_BASE = 'http://13.125.86.65:8080/mobiCARE/cardio'\n",
    "USER_ID = 'northstar01'\n",
    "USER_PW = 'northstar01'\n",
    "PW_ENCRYPTION = 0\n",
    "GMT_CODE = 'GMT+0900'\n",
    "DEVICE_KIND = 5\n",
    "COUNTRY_CODE = 'KR'\n",
    "COUNTRY_NAME = 'Korea'\n",
    "TIMEZONE = 'Asia/Seoul'\n",
    "\n",
    "auth_token = ''\n",
    "ip_wan = ''\n",
    "ip_lan = ''\n",
    "request_user_id = 0\n",
    "organization_id = ''\n",
    "list_measurement = []\n",
    "list_ecg = []"
   ]
  },
  {
   "cell_type": "code",
   "execution_count": 3,
   "metadata": {},
   "outputs": [
    {
     "name": "stdout",
     "output_type": "stream",
     "text": [
      "WAN ip : 14.40.50.110\n",
      "LAN ip : 127.0.1.1\n"
     ]
    }
   ],
   "source": [
    "ip_lan = socket.gethostbyname(socket.gethostname())\n",
    "ip_check = urllib.request.urlopen('http://checkip.dyndns.org').read().decode('utf-8')\n",
    "ip_wan = re.search(re.compile(r'\\d{1,3}\\.\\d{1,3}\\.\\d{1,3}\\.\\d{1,3}'),ip_check).group() \n",
    "print ('WAN ip : ' + ip_wan) \n",
    "print ('LAN ip : ' + ip_lan)"
   ]
  },
  {
   "cell_type": "code",
   "execution_count": 4,
   "metadata": {},
   "outputs": [
    {
     "name": "stdout",
     "output_type": "stream",
     "text": [
      "{\"id\": \"northstar01\", \"password\": \"northstar01\", \"encryption\": 0, \"systemTime\": 1570778007, \"requestDateTime\": \"2019-10-11 16:13:27\", \"gmtCode\": \"GMT+0900\", \"deviceKind\": 5, \"countryCode\": \"KR\", \"countryName\": \"Korea\", \"timezone\": \"Asia/Seoul\"}\n"
     ]
    }
   ],
   "source": [
    "# Make Login message \n",
    "URL_API_LOGIN = URL_BASE + '/Account/Login'\n",
    "HEADERS = {'Content-Type': 'application/json; charset=utf-8', 'SX-Client-IP': ip_wan}\n",
    "\n",
    "JSON_LOGIN = OrderedDict()\n",
    "JSON_LOGIN[\"id\"] = USER_ID\n",
    "JSON_LOGIN[\"password\"] = USER_PW\n",
    "JSON_LOGIN[\"encryption\"] = PW_ENCRYPTION\n",
    "JSON_LOGIN[\"systemTime\"] = int(time.time())\n",
    "JSON_LOGIN[\"requestDateTime\"] = datetime.datetime.now().strftime('%Y-%m-%d %H:%M:%S')\n",
    "JSON_LOGIN[\"gmtCode\"] = GMT_CODE\n",
    "JSON_LOGIN[\"deviceKind\"] = DEVICE_KIND\n",
    "JSON_LOGIN[\"countryCode\"] = COUNTRY_CODE\n",
    "JSON_LOGIN[\"countryName\"] = COUNTRY_NAME\n",
    "JSON_LOGIN[\"timezone\"] = TIMEZONE\n",
    "TEXT_LOGIN = json.dumps(JSON_LOGIN)\n",
    "print(TEXT_LOGIN)"
   ]
  },
  {
   "cell_type": "code",
   "execution_count": 5,
   "metadata": {},
   "outputs": [
    {
     "name": "stdout",
     "output_type": "stream",
     "text": [
      "POST request http://13.125.86.65:8080/mobiCARE/cardio/Account/Login\n",
      "True 200\n",
      "organization_id 8 token 1570778007927D8VRNFU6\n",
      "{\"result\":true,\"extra\":null,\"systemTime\":1570778007,\"error\":0,\"message\":null,\"accessToken\":\"1570778007927D8VRNFU6\",\"refreshToken\":null,\"userAccount\":{\"userId\":21,\"id\":\"northstar01\",\"password\":null,\"organizationId\":8,\"userCode\":\"NORTHSTARTMB\",\"department\":\"Software\",\"userLevel\":2,\"firstName\":\"Mb\",\"lastName\":\"Lee\",\"gender\":1,\"birthday\":\"1991-07-03\",\"phoneNumber\":\"+842437326303\",\"email\":\"mb.lee@northstar.co.kr\",\"address\":null,\"deviceKind\":3,\"encryption\":1,\"status\":0,\"deactivate\":0,\"gmtCode\":\"GMT+0900\",\"joinDateTime\":\"2019-09-10 11:13:40\",\"updateDateTime\":null,\"deactivateDateTime\":null},\"organization\":{\"organizationId\":8,\"organizationCode\":\"H4D0B5QW\",\"organizationName\":\"NorthStar\",\"countryCode\":\"KR\",\"countryName\":\"Korea\",\"state\":\"Seoul\",\"city\":\"Seongdong-gu\",\"address\":\"51, Seongsui-ro, Seongdong-gu\",\"phoneNumber\":\"+821035666371\",\"contractLevel\":3,\"deactivate\":0,\"administrator\":0,\"contractStartDate\":\"2019-09-10 09:04:24\",\"contractExpirationDate\":\"2119-05-29 09:00:00\",\"updateDateTime\":\"2019-09-10 09:04:24\",\"deactivateDateTime\":null,\"etc\":null}}\n"
     ]
    }
   ],
   "source": [
    "print('POST request %s' % URL_API_LOGIN)\n",
    "res = requests.post(URL_API_LOGIN, data=TEXT_LOGIN, headers=HEADERS)\n",
    "res_code = res.status_code\n",
    "res_result = False\n",
    "response_dic = {}\n",
    "if res_code == 200:\n",
    "    try:\n",
    "        response_dic = json.loads(res.text)\n",
    "        if 'error' in response_dic.keys():     \n",
    "            if response_dic[\"error\"] == 0:\n",
    "                res_result = True\n",
    "                auth_token = response_dic[\"accessToken\"]\n",
    "                organization_id = response_dic['userAccount'][\"organizationId\"]\n",
    "                request_user_id = response_dic['userAccount'][\"userId\"]\n",
    "    except (ValueError, TypeError) as e:\n",
    "        print (\"post exception : \", e)\n",
    "        print (res.text)\n",
    "elif res_code == 404:\n",
    "    print (\"send error - 404, Retry send cancel.\")\n",
    "\n",
    "print (res_result, res_code)\n",
    "print ('organization_id', organization_id, 'token', auth_token)\n",
    "print (res.text)"
   ]
  },
  {
   "cell_type": "code",
   "execution_count": 6,
   "metadata": {},
   "outputs": [
    {
     "name": "stdout",
     "output_type": "stream",
     "text": [
      "{\"requestUserId\": 21, \"organizationId\": 8, \"startDateTime\": \"2019-01-01 00:00:00\", \"endDateTime\": \"2019-10-11 16:13:27\", \"systemTime\": 1570778007, \"requestDateTime\": \"2019-10-11 16:13:27\", \"gmtCode\": \"GMT+0900\", \"deviceKind\": 5, \"countryCode\": \"KR\", \"countryName\": \"Korea\", \"timezone\": \"Asia/Seoul\"}\n"
     ]
    }
   ],
   "source": [
    "# Make SelectPatientMeasurementInfoByReviewer message \n",
    "URL_API_LIST = URL_BASE + '/Measurement/SelectPatientMeasurementInfoByReviewer'\n",
    "HEADERS = {'Content-Type': 'application/json; charset=utf-8',\n",
    "           'SX-Auth-Token': auth_token,\n",
    "           'SX-Client-IP': ip_wan }\n",
    "\n",
    "JSON_LIST = OrderedDict()\n",
    "JSON_LIST[\"requestUserId\"] = request_user_id\n",
    "JSON_LIST[\"organizationId\"] = organization_id\n",
    "JSON_LIST[\"startDateTime\"] = '2019-01-01 00:00:00'\n",
    "JSON_LIST[\"endDateTime\"] = datetime.datetime.now().strftime('%Y-%m-%d %H:%M:%S')\n",
    "\n",
    "JSON_LIST[\"systemTime\"] = int(time.time())\n",
    "JSON_LIST[\"requestDateTime\"] = datetime.datetime.now().strftime('%Y-%m-%d %H:%M:%S')\n",
    "JSON_LIST[\"gmtCode\"] = GMT_CODE\n",
    "JSON_LIST[\"deviceKind\"] = DEVICE_KIND\n",
    "JSON_LIST[\"countryCode\"] = COUNTRY_CODE\n",
    "JSON_LIST[\"countryName\"] = COUNTRY_NAME\n",
    "JSON_LIST[\"timezone\"] = TIMEZONE\n",
    "TEXT_LIST = json.dumps(JSON_LIST)\n",
    "print(TEXT_LIST)"
   ]
  },
  {
   "cell_type": "code",
   "execution_count": 7,
   "metadata": {},
   "outputs": [
    {
     "name": "stdout",
     "output_type": "stream",
     "text": [
      "POST request http://13.125.86.65:8080/mobiCARE/cardio/Measurement/SelectPatientMeasurementInfoByReviewer\n",
      "True 200\n",
      "count measurement 1\n",
      "{\"result\":true,\"extra\":null,\"systemTime\":1570778007,\"error\":0,\"message\":null,\"measurementInfoList\":[{\"measurementId\":110,\"measurementCode\":\"NSTest\",\"registerUserId\":21,\"reviewerUserId\":21,\"deviceCode\":\"29410\",\"organizationId\":8,\"patientCode\":\"SEERSWESLEY\",\"diseaseCode\":null,\"firstName\":\"Wesley\",\"lastName\":\"Kwon\",\"gender\":1,\"birthday\":\"1983-03-13\",\"height\":180.0,\"weight\":68.0,\"phoneNumber\":null,\"measurementStatus\":6,\"shard\":\"2019\",\"part\":29,\"reanalyzing\":0,\"deviceKind\":3,\"elapsedTime\":15593,\"gmtCode\":\"GMT+0900\",\"timezone\":null,\"countryCode\":null,\"dateTime\":\"2019-08-30 14:19:36\",\"startDateTime\":\"2019-08-30 14:25:05\",\"endDateTime\":\"2019-08-30 18:44:58\",\"modifyDateTime\":\"2019-09-20 10:21:07\",\"etc\":\"Wesley Riding Check\"}]}\n"
     ]
    }
   ],
   "source": [
    "print('POST request %s' % URL_API_LIST)\n",
    "res = requests.post(URL_API_LIST, data=TEXT_LIST, headers=HEADERS)\n",
    "res_code = res.status_code\n",
    "res_result = False\n",
    "response_dic = {}\n",
    "list_measurement = []\n",
    "if res_code == 200:\n",
    "    try:\n",
    "        response_dic = json.loads(res.text)\n",
    "        if 'error' in response_dic.keys():     \n",
    "            if response_dic[\"error\"] == 0:\n",
    "                res_result = True\n",
    "                list_measurement = response_dic[\"measurementInfoList\"]\n",
    "    except (ValueError, TypeError) as e:\n",
    "        print (\"post exception : \", e)\n",
    "        print (res.text)\n",
    "elif res_code == 404:\n",
    "    print (\"send error - 404, Retry send cancel.\")\n",
    "\n",
    "print (res_result, res_code)\n",
    "print ('count measurement', len(list_measurement))\n",
    "print (res.text)"
   ]
  },
  {
   "cell_type": "code",
   "execution_count": 8,
   "metadata": {},
   "outputs": [
    {
     "name": "stdout",
     "output_type": "stream",
     "text": [
      "{\"requestUserId\": 21, \"organizationId\": 8, \"measurementCode\": \"\", \"systemTime\": 1570778007, \"requestDateTime\": \"2019-10-11 16:13:27\", \"gmtCode\": \"GMT+0900\", \"deviceKind\": 5, \"countryCode\": \"KR\", \"countryName\": \"Korea\", \"timezone\": \"Asia/Seoul\"}\n"
     ]
    }
   ],
   "source": [
    "# Make SelectECGData  message \n",
    "URL_API_ECG = URL_BASE + '/Measurement/SelectECGData'\n",
    "HEADERS = {'Content-Type': 'application/json; charset=utf-8',\n",
    "           'SX-Auth-Token': auth_token,\n",
    "           'SX-Client-IP': ip_wan }\n",
    "\n",
    "JSON_ECG = OrderedDict()\n",
    "JSON_ECG[\"requestUserId\"] = request_user_id\n",
    "JSON_ECG[\"organizationId\"] = organization_id\n",
    "JSON_ECG[\"measurementCode\"] = ''\n",
    "\n",
    "JSON_ECG[\"systemTime\"] = int(time.time())\n",
    "JSON_ECG[\"requestDateTime\"] = datetime.datetime.now().strftime('%Y-%m-%d %H:%M:%S')\n",
    "JSON_ECG[\"gmtCode\"] = GMT_CODE\n",
    "JSON_ECG[\"deviceKind\"] = DEVICE_KIND\n",
    "JSON_ECG[\"countryCode\"] = COUNTRY_CODE\n",
    "JSON_ECG[\"countryName\"] = COUNTRY_NAME\n",
    "JSON_ECG[\"timezone\"] = TIMEZONE\n",
    "TEXT_ECG = json.dumps(JSON_ECG)\n",
    "print(TEXT_ECG)"
   ]
  },
  {
   "cell_type": "code",
   "execution_count": 9,
   "metadata": {},
   "outputs": [
    {
     "name": "stdout",
     "output_type": "stream",
     "text": [
      "POST request http://13.125.86.65:8080/mobiCARE/cardio/Measurement/SelectECGData\n",
      "True 200\n",
      "count ecg list 1\n",
      "{\"result\":true,\"extra\":null,\"systemTime\":1570778007,\"error\":0,\"message\":null,\"ecgDataList\":[{\"ecgId\":203,\"organizationId\":8,\"measurementCode\":\"NSTest\",\"key\":null,\"md5sum\":\"d9e7c1468fdf71aa162b585f28ed84\",\"sequenceNumber\":1,\"sampling\":256,\"gain\":100.0,\"endian\":1,\"deviceKind\":2,\"gmtCode\":\"GMT+0900\",\"startDateTime\":\"2019-08-30 14:25:05\",\"endDateTime\":\"2019-08-30 18:44:58\",\"uploadDateTime\":\"2019-09-02 09:03:48\",\"modifyDateTime\":null,\"fileSize\":7984384}]}\n",
      "\n"
     ]
    }
   ],
   "source": [
    "for idx, measurement in enumerate(list_measurement):\n",
    "    measurement_code = measurement['measurementCode']\n",
    "    JSON_ECG[\"measurementCode\"] = measurement_code\n",
    "    TEXT_ECG = json.dumps(JSON_ECG)\n",
    "    \n",
    "    print('POST request %s' % URL_API_ECG)\n",
    "    res = requests.post(URL_API_ECG, data=TEXT_ECG, headers=HEADERS)\n",
    "    res_code = res.status_code\n",
    "    res_result = False\n",
    "    response_dic = {}\n",
    "    if res_code == 200:\n",
    "        try:\n",
    "            response_dic = json.loads(res.text)\n",
    "            if 'error' in response_dic.keys():     \n",
    "                if response_dic[\"error\"] == 0:\n",
    "                    res_result = True\n",
    "                    list_measurement[idx][\"ecgDataList\"] = response_dic[\"ecgDataList\"]\n",
    "        except (ValueError, TypeError) as e:\n",
    "            print (\"post exception : \", e)\n",
    "            print (res.text)\n",
    "    elif res_code == 404:\n",
    "        print (\"send error - 404, Retry send cancel.\")\n",
    "\n",
    "    print (res_result, res_code)\n",
    "    print ('count ecg list', len(list_measurement[idx][\"ecgDataList\"]))\n",
    "    print (res.text)\n",
    "    print ('')\n"
   ]
  },
  {
   "cell_type": "code",
   "execution_count": 10,
   "metadata": {},
   "outputs": [],
   "source": [
    "# Make DownloadECGFile message \n",
    "URL_API_DOWNLOAD_ECG = URL_BASE + '/Measurement/DownloadECGFile/{code}:{id}'\n",
    "HEADERS = {'Content-Type': 'application/json; charset=utf-8',\n",
    "           'SX-Auth-Token': auth_token,\n",
    "           'SX-Client-IP': ip_wan }"
   ]
  },
  {
   "cell_type": "code",
   "execution_count": 11,
   "metadata": {},
   "outputs": [
    {
     "name": "stdout",
     "output_type": "stream",
     "text": [
      "NSTest 203\n",
      "http://13.125.86.65:8080/mobiCARE/cardio/Measurement/DownloadECGFile/NSTest:203\n",
      "form-data; name=\"attachment\"; filename=\"NSTest_01_20190830_142505.ecg\"\n",
      "filename :  NSTest_01_20190830_142505.ecg\n"
     ]
    }
   ],
   "source": [
    "for idx, measurement in enumerate(list_measurement):\n",
    "    measurement_code = measurement['measurementCode']\n",
    "    for idx, ecg in enumerate(measurement['ecgDataList']):\n",
    "        ecg_id = ecg['ecgId']\n",
    "        URL_API_DOWNLOAD_ECG = URL_BASE \\\n",
    "            + '/Measurement/DownloadECGFile/{code}:{id}'.format(code=measurement_code, \n",
    "                                                                id=str(ecg_id))\n",
    "        print (measurement_code, ecg_id)\n",
    "        print (URL_API_DOWNLOAD_ECG)\n",
    "        \n",
    "        res = requests.get(URL_API_DOWNLOAD_ECG, stream=True, headers=HEADERS)\n",
    "        res_code = res.status_code\n",
    "        res_result = False\n",
    "        if res_code == 200:\n",
    "            # print (res.headers)\n",
    "            content_disposition = res.headers['Content-Disposition']\n",
    "            print (content_disposition)\n",
    "            filename = re.findall('filename=.*\"([^ ]*)\"',content_disposition)[0]\n",
    "            print('filename : ', filename)\n",
    "\n",
    "            with open(filename, 'wb') as f:\n",
    "                for chunk in res.iter_content(chunk_size=512):\n",
    "                    if chunk:  # filter out keep-alive new chunks\n",
    "                        f.write(chunk)\n",
    "        elif res_code == 404:\n",
    "            print (\"send error - 404, Retry send cancel.\")\n",
    "        "
   ]
  },
  {
   "cell_type": "code",
   "execution_count": 12,
   "metadata": {},
   "outputs": [
    {
     "name": "stdout",
     "output_type": "stream",
     "text": [
      "{\"requestUserId\": 21, \"organizationId\": 8, \"measurementCode\": \"\", \"systemTime\": 1570778008, \"requestDateTime\": \"2019-10-11 16:13:28\", \"gmtCode\": \"GMT+0900\", \"deviceKind\": 5, \"countryCode\": \"KR\", \"countryName\": \"Korea\", \"timezone\": \"Asia/Seoul\"}\n"
     ]
    }
   ],
   "source": [
    "# Make SelectAnalysisOutputAnnotationFile  message \n",
    "\n",
    "URL_API_ANNOTATION = URL_BASE + '/Analysis/SelectAnalysisOutputAnnotationFile'\n",
    "HEADERS = {'Content-Type': 'application/json; charset=utf-8',\n",
    "           'SX-Auth-Token': auth_token,\n",
    "           'SX-Client-IP': ip_wan }\n",
    "\n",
    "JSON_ANNOTATION = OrderedDict()\n",
    "JSON_ANNOTATION[\"requestUserId\"] = request_user_id\n",
    "JSON_ANNOTATION[\"organizationId\"] = organization_id\n",
    "JSON_ANNOTATION[\"measurementCode\"] = ''\n",
    "\n",
    "JSON_ANNOTATION[\"systemTime\"] = int(time.time())\n",
    "JSON_ANNOTATION[\"requestDateTime\"] = datetime.datetime.now().strftime('%Y-%m-%d %H:%M:%S')\n",
    "JSON_ANNOTATION[\"gmtCode\"] = GMT_CODE\n",
    "JSON_ANNOTATION[\"deviceKind\"] = DEVICE_KIND\n",
    "JSON_ANNOTATION[\"countryCode\"] = COUNTRY_CODE\n",
    "JSON_ANNOTATION[\"countryName\"] = COUNTRY_NAME\n",
    "JSON_ANNOTATION[\"timezone\"] = TIMEZONE\n",
    "TEXT_ANNOTATION = json.dumps(JSON_ANNOTATION)\n",
    "print(TEXT_ANNOTATION)"
   ]
  },
  {
   "cell_type": "code",
   "execution_count": 13,
   "metadata": {},
   "outputs": [
    {
     "name": "stdout",
     "output_type": "stream",
     "text": [
      "POST request http://13.125.86.65:8080/mobiCARE/cardio/Measurement/SelectECGData\n",
      "True 200\n",
      "count annotation list 1\n",
      "{\"result\":true,\"extra\":null,\"systemTime\":1570778008,\"error\":0,\"message\":null,\"analysisOutputFileList\":[{\"analysisOutputFileId\":5474,\"organizationId\":8,\"measurementCode\":\"NSTest\",\"fileKey\":null,\"md5sum\":\"2b59dc42c6c9a1072c9817f372398a0\",\"fileType\":7,\"reanalyzing\":0,\"uploadDateTime\":\"2019-09-20 10:20:19\"}]}\n",
      "\n"
     ]
    }
   ],
   "source": [
    "for idx, measurement in enumerate(list_measurement):\n",
    "    measurement_code = measurement['measurementCode']\n",
    "    JSON_ANNOTATION[\"measurementCode\"] = measurement_code\n",
    "    TEXT_ANNOTATION = json.dumps(JSON_ANNOTATION)\n",
    "\n",
    "    print('POST request %s' % URL_API_ECG)\n",
    "    res = requests.post(URL_API_ANNOTATION, data=TEXT_ANNOTATION, headers=HEADERS)\n",
    "    res_code = res.status_code\n",
    "    res_result = False\n",
    "    response_dic = {}\n",
    "    if res_code == 200:\n",
    "        try:\n",
    "            response_dic = json.loads(res.text)\n",
    "            if 'error' in response_dic.keys():     \n",
    "                if response_dic[\"error\"] == 0:\n",
    "                    res_result = True\n",
    "                    list_measurement[idx][\"analysisOutputFileList\"] = response_dic[\"analysisOutputFileList\"]\n",
    "        except (ValueError, TypeError) as e:\n",
    "            print (\"post exception : \", e)\n",
    "            print (res.text)\n",
    "    elif res_code == 404:\n",
    "        print (\"send error - 404, Retry send cancel.\")\n",
    "\n",
    "    print (res_result, res_code)\n",
    "    print ('count annotation list', len(list_measurement[idx][\"analysisOutputFileList\"]))\n",
    "    print (res.text)\n",
    "    print ('')"
   ]
  },
  {
   "cell_type": "code",
   "execution_count": 14,
   "metadata": {},
   "outputs": [],
   "source": [
    "# Make DownloadAnaysisOutputFile message \n",
    "URL_API_DOWNLOAD_ANNOTATION = URL_BASE + '/Analysis/DownloadAnalysisOutputFile/{code}:{id}'\n",
    "HEADERS = {'Content-Type': 'application/json; charset=utf-8',\n",
    "           'SX-Auth-Token': auth_token,\n",
    "           'SX-Client-IP': ip_wan }"
   ]
  },
  {
   "cell_type": "code",
   "execution_count": 15,
   "metadata": {},
   "outputs": [
    {
     "name": "stdout",
     "output_type": "stream",
     "text": [
      "NSTest 5474\n",
      "http://13.125.86.65:8080/mobiCARE/cardio/Analysis/DownloadAnalysisOutputFile/NSTest:5474\n",
      "form-data; name=\"attachment\"; filename=\"hbclass.txt\"\n",
      "filename :  hbclass.txt\n"
     ]
    }
   ],
   "source": [
    "for idx, measurement in enumerate(list_measurement):\n",
    "    measurement_code = measurement['measurementCode']\n",
    "    for idx, analysis in enumerate(measurement['analysisOutputFileList']):\n",
    "        analysis_id = analysis['analysisOutputFileId']\n",
    "        URL_API_DOWNLOAD_ANNOTATION = URL_BASE \\\n",
    "            + '/Analysis/DownloadAnalysisOutputFile/{code}:{id}'.format(code=measurement_code,\n",
    "                                                                        id=str(analysis_id))\n",
    "        print (measurement_code, analysis_id)\n",
    "        print (URL_API_DOWNLOAD_ANNOTATION)\n",
    "        \n",
    "        res = requests.get(URL_API_DOWNLOAD_ANNOTATION, stream=True, headers=HEADERS)\n",
    "        res_code = res.status_code\n",
    "        res_result = False\n",
    "        if res_code == 200:\n",
    "            # print (res.headers)\n",
    "            content_disposition = res.headers['Content-Disposition']\n",
    "            print (content_disposition)\n",
    "            filename = re.findall('filename=.*\"([^ ]*)\"',content_disposition)[0]\n",
    "            print('filename : ', filename)\n",
    "\n",
    "            with open(filename, 'wb') as f:\n",
    "                for chunk in res.iter_content(chunk_size=512):\n",
    "                    if chunk:  # filter out keep-alive new chunks\n",
    "                        f.write(chunk)\n",
    "        elif res_code == 404:\n",
    "            print (\"send error - 404, Retry send cancel.\")"
   ]
  },
  {
   "cell_type": "code",
   "execution_count": 16,
   "metadata": {},
   "outputs": [
    {
     "name": "stdout",
     "output_type": "stream",
     "text": [
      "/home/nsc/seers/seers_cai_mb/notebook\n",
      "합계 22544\n",
      "drwxrwxr-x 3 nsc nsc     4096 10월 11 16:12 .\n",
      "drwxrwxr-x 7 nsc nsc     4096 10월 11 13:36 ..\n",
      "drwxrwxr-x 2 nsc nsc     4096 10월 11 10:31 .ipynb_checkpoints\n",
      "-rw-rw-r-- 1 nsc nsc  7984384 10월 11 16:13 NSTest_01_20190830_142505.ecg\n",
      "-rw-rw-r-- 1 nsc nsc 10728643 10월 10 23:10 dataset_viewer.ipynb\n",
      "-rw-rw-r-- 1 nsc nsc   345696 10월 11 16:13 hbclass.txt\n",
      "-rw-rw-r-- 1 nsc nsc    18197 10월 11 16:12 load_mc100.ipynb\n",
      "-rw-rw-r-- 1 nsc nsc    46883 10월 11 16:12 mc100_api.ipynb\n",
      "-rw-rw-r-- 1 nsc nsc    27114 10월 11 13:46 mc100_class.ipynb\n",
      "-rw-rw-r-- 1 nsc nsc   204766 10월 10 23:01 preprocess-db1.ipynb\n",
      "-rw-rw-r-- 1 nsc nsc  2190680 10월 10 22:50 preprocess-db2.ipynb\n",
      "-rw-rw-r-- 1 nsc nsc  1510966 10월  7 13:36 seers_demo.ipynb\n"
     ]
    },
    {
     "data": {
      "text/plain": [
       "[{'measurementId': 110,\n",
       "  'measurementCode': 'NSTest',\n",
       "  'registerUserId': 21,\n",
       "  'reviewerUserId': 21,\n",
       "  'deviceCode': '29410',\n",
       "  'organizationId': 8,\n",
       "  'patientCode': 'SEERSWESLEY',\n",
       "  'diseaseCode': None,\n",
       "  'firstName': 'Wesley',\n",
       "  'lastName': 'Kwon',\n",
       "  'gender': 1,\n",
       "  'birthday': '1983-03-13',\n",
       "  'height': 180.0,\n",
       "  'weight': 68.0,\n",
       "  'phoneNumber': None,\n",
       "  'measurementStatus': 6,\n",
       "  'shard': '2019',\n",
       "  'part': 29,\n",
       "  'reanalyzing': 0,\n",
       "  'deviceKind': 3,\n",
       "  'elapsedTime': 15593,\n",
       "  'gmtCode': 'GMT+0900',\n",
       "  'timezone': None,\n",
       "  'countryCode': None,\n",
       "  'dateTime': '2019-08-30 14:19:36',\n",
       "  'startDateTime': '2019-08-30 14:25:05',\n",
       "  'endDateTime': '2019-08-30 18:44:58',\n",
       "  'modifyDateTime': '2019-09-20 10:21:07',\n",
       "  'etc': 'Wesley Riding Check',\n",
       "  'ecgDataList': [{'ecgId': 203,\n",
       "    'organizationId': 8,\n",
       "    'measurementCode': 'NSTest',\n",
       "    'key': None,\n",
       "    'md5sum': 'd9e7c1468fdf71aa162b585f28ed84',\n",
       "    'sequenceNumber': 1,\n",
       "    'sampling': 256,\n",
       "    'gain': 100.0,\n",
       "    'endian': 1,\n",
       "    'deviceKind': 2,\n",
       "    'gmtCode': 'GMT+0900',\n",
       "    'startDateTime': '2019-08-30 14:25:05',\n",
       "    'endDateTime': '2019-08-30 18:44:58',\n",
       "    'uploadDateTime': '2019-09-02 09:03:48',\n",
       "    'modifyDateTime': None,\n",
       "    'fileSize': 7984384}],\n",
       "  'analysisOutputFileList': [{'analysisOutputFileId': 5474,\n",
       "    'organizationId': 8,\n",
       "    'measurementCode': 'NSTest',\n",
       "    'fileKey': None,\n",
       "    'md5sum': '2b59dc42c6c9a1072c9817f372398a0',\n",
       "    'fileType': 7,\n",
       "    'reanalyzing': 0,\n",
       "    'uploadDateTime': '2019-09-20 10:20:19'}]}]"
      ]
     },
     "execution_count": 16,
     "metadata": {},
     "output_type": "execute_result"
    }
   ],
   "source": [
    "!pwd\n",
    "!ls -al\n",
    "\n",
    "list_measurement"
   ]
  },
  {
   "cell_type": "code",
   "execution_count": 17,
   "metadata": {},
   "outputs": [
    {
     "name": "stdout",
     "output_type": "stream",
     "text": [
      "{\"requestUserId\": 21, \"organizationId\": 8, \"measurementCode\": \"NSTest\", \"includeNoise\": true, \"systemTime\": 1570778008, \"requestDateTime\": \"2019-10-11 16:13:28\", \"gmtCode\": \"GMT+0900\", \"deviceKind\": 5, \"countryCode\": \"KR\", \"countryName\": \"Korea\", \"timezone\": \"Asia/Seoul\"}\n"
     ]
    }
   ],
   "source": [
    "# Make SelectAnalysisBeatClassify message \n",
    "URL_API_ANALYSIS = URL_BASE + '/Analysis/SelectAnalysisBeatClassify'\n",
    "HEADERS = {'Content-Type': 'application/json; charset=utf-8',\n",
    "           'SX-Auth-Token': auth_token,\n",
    "           'SX-Client-IP': ip_wan }\n",
    "\n",
    "JSON_ANALYSIS = OrderedDict()\n",
    "JSON_ANALYSIS[\"requestUserId\"] = request_user_id\n",
    "JSON_ANALYSIS[\"organizationId\"] = organization_id\n",
    "JSON_ANALYSIS[\"measurementCode\"] = measurement_code\n",
    "JSON_ANALYSIS[\"includeNoise\"] = True\n",
    "\n",
    "JSON_ANALYSIS[\"systemTime\"] = int(time.time())\n",
    "JSON_ANALYSIS[\"requestDateTime\"] = datetime.datetime.now().strftime('%Y-%m-%d %H:%M:%S')\n",
    "JSON_ANALYSIS[\"gmtCode\"] = GMT_CODE\n",
    "JSON_ANALYSIS[\"deviceKind\"] = DEVICE_KIND\n",
    "JSON_ANALYSIS[\"countryCode\"] = COUNTRY_CODE\n",
    "JSON_ANALYSIS[\"countryName\"] = COUNTRY_NAME\n",
    "JSON_ANALYSIS[\"timezone\"] = TIMEZONE\n",
    "TEXT_ANALYSIS = json.dumps(JSON_ANALYSIS)\n",
    "print(TEXT_ANALYSIS)"
   ]
  },
  {
   "cell_type": "code",
   "execution_count": 18,
   "metadata": {
    "scrolled": true
   },
   "outputs": [
    {
     "name": "stdout",
     "output_type": "stream",
     "text": [
      "POST request http://13.125.86.65:8080/mobiCARE/cardio/Analysis/SelectAnalysisBeatClassify\n",
      "True 200\n",
      "{'analysisBeatClassifyId': 179471, 'seconds': 0.035, 'beatClass': 'V', 'beatShape': 1, 'modifyFlag': 0, 'removeFlag': 0, 'noise': 0}\n",
      "{'analysisBeatClassifyId': 179472, 'seconds': 13.953, 'beatClass': 'V', 'beatShape': 2, 'modifyFlag': 0, 'removeFlag': 0, 'noise': 0}\n",
      "{'analysisBeatClassifyId': 179473, 'seconds': 14.504, 'beatClass': 'V', 'beatShape': 3, 'modifyFlag': 0, 'removeFlag': 0, 'noise': 0}\n",
      "{'analysisBeatClassifyId': 179475, 'seconds': 20.156, 'beatClass': 'V', 'beatShape': 5, 'modifyFlag': 0, 'removeFlag': 0, 'noise': 0}\n",
      "{'analysisBeatClassifyId': 182530, 'seconds': 2479.777, 'beatClass': 'S', 'beatShape': 21, 'modifyFlag': 0, 'removeFlag': 0, 'noise': 0}\n",
      "{'analysisBeatClassifyId': 183022, 'seconds': 2807.063, 'beatClass': 'S', 'beatShape': 26, 'modifyFlag': 0, 'removeFlag': 0, 'noise': 0}\n",
      "{'analysisBeatClassifyId': 183103, 'seconds': 2861.188, 'beatClass': 'S', 'beatShape': 27, 'modifyFlag': 0, 'removeFlag': 0, 'noise': 0}\n",
      "{'analysisBeatClassifyId': 183152, 'seconds': 2891.859, 'beatClass': 'S', 'beatShape': 27, 'modifyFlag': 0, 'removeFlag': 0, 'noise': 0}\n",
      "{'analysisBeatClassifyId': 183165, 'seconds': 2900.387, 'beatClass': 'S', 'beatShape': 27, 'modifyFlag': 0, 'removeFlag': 0, 'noise': 0}\n",
      "{'analysisBeatClassifyId': 183314, 'seconds': 3004.5, 'beatClass': 'S', 'beatShape': 27, 'modifyFlag': 0, 'removeFlag': 0, 'noise': 0}\n",
      "{'analysisBeatClassifyId': 187644, 'seconds': 6368.352, 'beatClass': 'V', 'beatShape': 32, 'modifyFlag': 0, 'removeFlag': 0, 'noise': 0}\n",
      "{'analysisBeatClassifyId': 187770, 'seconds': 6445.098, 'beatClass': 'S', 'beatShape': 35, 'modifyFlag': 0, 'removeFlag': 0, 'noise': 0}\n",
      "{'analysisBeatClassifyId': 187771, 'seconds': 6445.43, 'beatClass': 'S', 'beatShape': 36, 'modifyFlag': 0, 'removeFlag': 0, 'noise': 0}\n",
      "{'analysisBeatClassifyId': 187802, 'seconds': 6464.738, 'beatClass': 'S', 'beatShape': 27, 'modifyFlag': 0, 'removeFlag': 0, 'noise': 0}\n",
      "{'analysisBeatClassifyId': 187815, 'seconds': 6473.215, 'beatClass': 'S', 'beatShape': 27, 'modifyFlag': 0, 'removeFlag': 0, 'noise': 0}\n",
      "{'analysisBeatClassifyId': 191790, 'seconds': 9671.813, 'beatClass': 'S', 'beatShape': 36, 'modifyFlag': 0, 'removeFlag': 0, 'noise': 0}\n",
      "{'analysisBeatClassifyId': 192543, 'seconds': 10218.93, 'beatClass': 'V', 'beatShape': 32, 'modifyFlag': 0, 'removeFlag': 0, 'noise': 0}\n",
      "{'analysisBeatClassifyId': 192614, 'seconds': 10264.617, 'beatClass': 'S', 'beatShape': 27, 'modifyFlag': 0, 'removeFlag': 0, 'noise': 0}\n",
      "{'analysisBeatClassifyId': 195624, 'seconds': 13762.703, 'beatClass': 'S', 'beatShape': 36, 'modifyFlag': 0, 'removeFlag': 0, 'noise': 0}\n",
      "{'analysisBeatClassifyId': 195628, 'seconds': 13765.41, 'beatClass': 'S', 'beatShape': 36, 'modifyFlag': 0, 'removeFlag': 0, 'noise': 0}\n",
      "{'analysisBeatClassifyId': 195690, 'seconds': 13809.891, 'beatClass': 'V', 'beatShape': 38, 'modifyFlag': 0, 'removeFlag': 0, 'noise': 0}\n",
      "{'analysisBeatClassifyId': 195767, 'seconds': 13862.613, 'beatClass': 'S', 'beatShape': 40, 'modifyFlag': 0, 'removeFlag': 0, 'noise': 0}\n",
      "{'analysisBeatClassifyId': 195814, 'seconds': 13894.941, 'beatClass': 'S', 'beatShape': 27, 'modifyFlag': 0, 'removeFlag': 0, 'noise': 0}\n",
      "{'analysisBeatClassifyId': 196082, 'seconds': 14074.066, 'beatClass': 'S', 'beatShape': 40, 'modifyFlag': 0, 'removeFlag': 0, 'noise': 0}\n",
      "{'analysisBeatClassifyId': 196333, 'seconds': 14253.297, 'beatClass': 'S', 'beatShape': 41, 'modifyFlag': 0, 'removeFlag': 0, 'noise': 0}\n",
      "{'analysisBeatClassifyId': 196353, 'seconds': 14265.184, 'beatClass': 'S', 'beatShape': 36, 'modifyFlag': 0, 'removeFlag': 0, 'noise': 0}\n",
      "{'analysisBeatClassifyId': 196358, 'seconds': 14268.129, 'beatClass': 'S', 'beatShape': 42, 'modifyFlag': 0, 'removeFlag': 0, 'noise': 0}\n",
      "{'analysisBeatClassifyId': 196375, 'seconds': 14278.355, 'beatClass': 'S', 'beatShape': 36, 'modifyFlag': 0, 'removeFlag': 0, 'noise': 0}\n",
      "{'analysisBeatClassifyId': 196550, 'seconds': 14381.43, 'beatClass': 'S', 'beatShape': 42, 'modifyFlag': 0, 'removeFlag': 0, 'noise': 0}\n",
      "{'analysisBeatClassifyId': 196554, 'seconds': 14383.324, 'beatClass': 'S', 'beatShape': 36, 'modifyFlag': 0, 'removeFlag': 0, 'noise': 0}\n",
      "{'analysisBeatClassifyId': 196590, 'seconds': 14399.734, 'beatClass': 'S', 'beatShape': 35, 'modifyFlag': 0, 'removeFlag': 0, 'noise': 0}\n",
      "{'analysisBeatClassifyId': 196593, 'seconds': 14401.121, 'beatClass': 'S', 'beatShape': 42, 'modifyFlag': 0, 'removeFlag': 0, 'noise': 0}\n",
      "{'analysisBeatClassifyId': 196606, 'seconds': 14407.332, 'beatClass': 'S', 'beatShape': 42, 'modifyFlag': 0, 'removeFlag': 0, 'noise': 0}\n",
      "{'analysisBeatClassifyId': 196617, 'seconds': 14412.465, 'beatClass': 'S', 'beatShape': 36, 'modifyFlag': 0, 'removeFlag': 0, 'noise': 0}\n",
      "{'analysisBeatClassifyId': 196620, 'seconds': 14413.816, 'beatClass': 'S', 'beatShape': 42, 'modifyFlag': 0, 'removeFlag': 0, 'noise': 0}\n",
      "{'analysisBeatClassifyId': 196623, 'seconds': 14415.148, 'beatClass': 'S', 'beatShape': 35, 'modifyFlag': 0, 'removeFlag': 0, 'noise': 0}\n",
      "{'analysisBeatClassifyId': 196626, 'seconds': 14416.441, 'beatClass': 'S', 'beatShape': 47, 'modifyFlag': 0, 'removeFlag': 0, 'noise': 0}\n",
      "{'analysisBeatClassifyId': 196638, 'seconds': 14421.574, 'beatClass': 'S', 'beatShape': 36, 'modifyFlag': 0, 'removeFlag': 0, 'noise': 0}\n",
      "{'analysisBeatClassifyId': 196701, 'seconds': 14446.578, 'beatClass': 'S', 'beatShape': 40, 'modifyFlag': 0, 'removeFlag': 0, 'noise': 0}\n",
      "{'analysisBeatClassifyId': 196706, 'seconds': 14448.484, 'beatClass': 'S', 'beatShape': 41, 'modifyFlag': 0, 'removeFlag': 0, 'noise': 0}\n",
      "{'analysisBeatClassifyId': 196801, 'seconds': 14486.18, 'beatClass': 'S', 'beatShape': 50, 'modifyFlag': 0, 'removeFlag': 0, 'noise': 0}\n",
      "{'analysisBeatClassifyId': 196846, 'seconds': 14503.949, 'beatClass': 'S', 'beatShape': 42, 'modifyFlag': 0, 'removeFlag': 0, 'noise': 0}\n",
      "{'analysisBeatClassifyId': 196971, 'seconds': 14552.578, 'beatClass': 'S', 'beatShape': 42, 'modifyFlag': 0, 'removeFlag': 0, 'noise': 0}\n",
      "{'analysisBeatClassifyId': 196978, 'seconds': 14555.25, 'beatClass': 'S', 'beatShape': 41, 'modifyFlag': 0, 'removeFlag': 0, 'noise': 0}\n",
      "{'analysisBeatClassifyId': 197273, 'seconds': 14670.039, 'beatClass': 'S', 'beatShape': 41, 'modifyFlag': 0, 'removeFlag': 0, 'noise': 0}\n",
      "{'analysisBeatClassifyId': 197472, 'seconds': 14745.813, 'beatClass': 'S', 'beatShape': 50, 'modifyFlag': 0, 'removeFlag': 0, 'noise': 0}\n",
      "{'analysisBeatClassifyId': 197489, 'seconds': 14752.125, 'beatClass': 'S', 'beatShape': 40, 'modifyFlag': 0, 'removeFlag': 0, 'noise': 0}\n",
      "{'analysisBeatClassifyId': 197494, 'seconds': 14753.957, 'beatClass': 'S', 'beatShape': 50, 'modifyFlag': 0, 'removeFlag': 0, 'noise': 0}\n",
      "{'analysisBeatClassifyId': 197495, 'seconds': 14754.27, 'beatClass': 'S', 'beatShape': 36, 'modifyFlag': 0, 'removeFlag': 0, 'noise': 0}\n",
      "{'analysisBeatClassifyId': 197496, 'seconds': 14754.586, 'beatClass': 'S', 'beatShape': 42, 'modifyFlag': 0, 'removeFlag': 0, 'noise': 0}\n",
      "{'analysisBeatClassifyId': 197690, 'seconds': 14827.926, 'beatClass': 'S', 'beatShape': 47, 'modifyFlag': 0, 'removeFlag': 0, 'noise': 0}\n",
      "{'analysisBeatClassifyId': 197731, 'seconds': 14843.742, 'beatClass': 'S', 'beatShape': 53, 'modifyFlag': 0, 'removeFlag': 0, 'noise': 0}\n",
      "{'analysisBeatClassifyId': 197739, 'seconds': 14846.777, 'beatClass': 'S', 'beatShape': 50, 'modifyFlag': 0, 'removeFlag': 0, 'noise': 0}\n",
      "{'analysisBeatClassifyId': 197744, 'seconds': 14848.688, 'beatClass': 'S', 'beatShape': 47, 'modifyFlag': 0, 'removeFlag': 0, 'noise': 0}\n",
      "{'analysisBeatClassifyId': 197919, 'seconds': 14915.488, 'beatClass': 'S', 'beatShape': 50, 'modifyFlag': 0, 'removeFlag': 0, 'noise': 0}\n",
      "{'analysisBeatClassifyId': 197922, 'seconds': 14916.613, 'beatClass': 'S', 'beatShape': 35, 'modifyFlag': 0, 'removeFlag': 0, 'noise': 0}\n",
      "{'analysisBeatClassifyId': 197963, 'seconds': 14932.047, 'beatClass': 'S', 'beatShape': 42, 'modifyFlag': 0, 'removeFlag': 0, 'noise': 0}\n",
      "{'analysisBeatClassifyId': 198084, 'seconds': 14978.422, 'beatClass': 'S', 'beatShape': 42, 'modifyFlag': 0, 'removeFlag': 0, 'noise': 0}\n",
      "{'analysisBeatClassifyId': 198093, 'seconds': 14981.848, 'beatClass': 'S', 'beatShape': 41, 'modifyFlag': 0, 'removeFlag': 0, 'noise': 0}\n",
      "{'analysisBeatClassifyId': 198102, 'seconds': 14985.281, 'beatClass': 'S', 'beatShape': 41, 'modifyFlag': 0, 'removeFlag': 0, 'noise': 0}\n",
      "{'analysisBeatClassifyId': 198107, 'seconds': 14987.176, 'beatClass': 'S', 'beatShape': 42, 'modifyFlag': 0, 'removeFlag': 0, 'noise': 0}\n",
      "{'analysisBeatClassifyId': 198112, 'seconds': 14989.055, 'beatClass': 'S', 'beatShape': 40, 'modifyFlag': 0, 'removeFlag': 0, 'noise': 0}\n",
      "{'analysisBeatClassifyId': 198123, 'seconds': 14993.234, 'beatClass': 'S', 'beatShape': 41, 'modifyFlag': 0, 'removeFlag': 0, 'noise': 0}\n",
      "{'analysisBeatClassifyId': 198166, 'seconds': 15009.781, 'beatClass': 'S', 'beatShape': 41, 'modifyFlag': 0, 'removeFlag': 0, 'noise': 0}\n",
      "{'analysisBeatClassifyId': 198240, 'seconds': 15037.324, 'beatClass': 'S', 'beatShape': 50, 'modifyFlag': 0, 'removeFlag': 0, 'noise': 0}\n",
      "{'analysisBeatClassifyId': 198260, 'seconds': 15044.719, 'beatClass': 'S', 'beatShape': 50, 'modifyFlag': 0, 'removeFlag': 0, 'noise': 0}\n",
      "{'analysisBeatClassifyId': 198277, 'seconds': 15051.055, 'beatClass': 'S', 'beatShape': 53, 'modifyFlag': 0, 'removeFlag': 0, 'noise': 0}\n",
      "{'analysisBeatClassifyId': 198282, 'seconds': 15052.895, 'beatClass': 'S', 'beatShape': 35, 'modifyFlag': 0, 'removeFlag': 0, 'noise': 0}\n",
      "{'analysisBeatClassifyId': 198287, 'seconds': 15054.738, 'beatClass': 'S', 'beatShape': 36, 'modifyFlag': 0, 'removeFlag': 0, 'noise': 0}\n",
      "{'analysisBeatClassifyId': 198292, 'seconds': 15056.578, 'beatClass': 'S', 'beatShape': 47, 'modifyFlag': 0, 'removeFlag': 0, 'noise': 0}\n",
      "{'analysisBeatClassifyId': 198300, 'seconds': 15059.535, 'beatClass': 'V', 'beatShape': 3, 'modifyFlag': 0, 'removeFlag': 0, 'noise': 0}\n",
      "{'analysisBeatClassifyId': 198305, 'seconds': 15061.391, 'beatClass': 'S', 'beatShape': 36, 'modifyFlag': 0, 'removeFlag': 0, 'noise': 0}\n",
      "{'analysisBeatClassifyId': 198374, 'seconds': 15088.652, 'beatClass': 'S', 'beatShape': 41, 'modifyFlag': 0, 'removeFlag': 0, 'noise': 0}\n",
      "{'analysisBeatClassifyId': 198379, 'seconds': 15090.598, 'beatClass': 'S', 'beatShape': 53, 'modifyFlag': 0, 'removeFlag': 0, 'noise': 0}\n",
      "{'analysisBeatClassifyId': 198480, 'seconds': 15135.277, 'beatClass': 'S', 'beatShape': 56, 'modifyFlag': 0, 'removeFlag': 0, 'noise': 0}\n",
      "{'analysisBeatClassifyId': 198481, 'seconds': 15135.758, 'beatClass': 'S', 'beatShape': 57, 'modifyFlag': 0, 'removeFlag': 0, 'noise': 0}\n",
      "{'analysisBeatClassifyId': 198484, 'seconds': 15140.125, 'beatClass': 'S', 'beatShape': 58, 'modifyFlag': 0, 'removeFlag': 0, 'noise': 0}\n",
      "{'analysisBeatClassifyId': 198485, 'seconds': 15140.605, 'beatClass': 'S', 'beatShape': 57, 'modifyFlag': 0, 'removeFlag': 0, 'noise': 0}\n",
      "{'analysisBeatClassifyId': 198486, 'seconds': 15141.105, 'beatClass': 'V', 'beatShape': 59, 'modifyFlag': 0, 'removeFlag': 0, 'noise': 0}\n",
      "{'analysisBeatClassifyId': 198489, 'seconds': 15143.133, 'beatClass': 'S', 'beatShape': 57, 'modifyFlag': 0, 'removeFlag': 0, 'noise': 0}\n",
      "{'analysisBeatClassifyId': 198490, 'seconds': 15143.648, 'beatClass': 'S', 'beatShape': 57, 'modifyFlag': 0, 'removeFlag': 0, 'noise': 0}\n",
      "{'analysisBeatClassifyId': 198491, 'seconds': 15144.156, 'beatClass': 'S', 'beatShape': 60, 'modifyFlag': 0, 'removeFlag': 0, 'noise': 0}\n",
      "{'analysisBeatClassifyId': 198492, 'seconds': 15144.676, 'beatClass': 'S', 'beatShape': 56, 'modifyFlag': 0, 'removeFlag': 0, 'noise': 0}\n",
      "{'analysisBeatClassifyId': 198493, 'seconds': 15145.203, 'beatClass': 'S', 'beatShape': 40, 'modifyFlag': 0, 'removeFlag': 0, 'noise': 0}\n",
      "{'analysisBeatClassifyId': 198494, 'seconds': 15145.734, 'beatClass': 'S', 'beatShape': 61, 'modifyFlag': 0, 'removeFlag': 0, 'noise': 0}\n",
      "{'analysisBeatClassifyId': 198495, 'seconds': 15146.262, 'beatClass': 'S', 'beatShape': 57, 'modifyFlag': 0, 'removeFlag': 0, 'noise': 0}\n",
      "{'analysisBeatClassifyId': 198496, 'seconds': 15146.785, 'beatClass': 'S', 'beatShape': 61, 'modifyFlag': 0, 'removeFlag': 0, 'noise': 0}\n",
      "{'analysisBeatClassifyId': 198497, 'seconds': 15147.309, 'beatClass': 'S', 'beatShape': 58, 'modifyFlag': 0, 'removeFlag': 0, 'noise': 0}\n",
      "{'analysisBeatClassifyId': 198498, 'seconds': 15147.828, 'beatClass': 'S', 'beatShape': 40, 'modifyFlag': 0, 'removeFlag': 0, 'noise': 0}\n",
      "{'analysisBeatClassifyId': 198499, 'seconds': 15148.344, 'beatClass': 'S', 'beatShape': 61, 'modifyFlag': 0, 'removeFlag': 0, 'noise': 0}\n",
      "{'analysisBeatClassifyId': 198500, 'seconds': 15148.859, 'beatClass': 'S', 'beatShape': 57, 'modifyFlag': 0, 'removeFlag': 0, 'noise': 0}\n",
      "{'analysisBeatClassifyId': 198501, 'seconds': 15149.375, 'beatClass': 'S', 'beatShape': 27, 'modifyFlag': 0, 'removeFlag': 0, 'noise': 0}\n",
      "{'analysisBeatClassifyId': 198502, 'seconds': 15149.883, 'beatClass': 'S', 'beatShape': 60, 'modifyFlag': 0, 'removeFlag': 0, 'noise': 0}\n",
      "{'analysisBeatClassifyId': 198503, 'seconds': 15150.406, 'beatClass': 'S', 'beatShape': 60, 'modifyFlag': 0, 'removeFlag': 0, 'noise': 0}\n",
      "{'analysisBeatClassifyId': 198504, 'seconds': 15150.938, 'beatClass': 'S', 'beatShape': 60, 'modifyFlag': 0, 'removeFlag': 0, 'noise': 0}\n",
      "{'analysisBeatClassifyId': 198505, 'seconds': 15151.465, 'beatClass': 'S', 'beatShape': 57, 'modifyFlag': 0, 'removeFlag': 0, 'noise': 0}\n",
      "{'analysisBeatClassifyId': 198506, 'seconds': 15151.996, 'beatClass': 'S', 'beatShape': 60, 'modifyFlag': 0, 'removeFlag': 0, 'noise': 0}\n",
      "{'analysisBeatClassifyId': 198507, 'seconds': 15152.539, 'beatClass': 'S', 'beatShape': 60, 'modifyFlag': 0, 'removeFlag': 0, 'noise': 0}\n",
      "{'analysisBeatClassifyId': 198508, 'seconds': 15153.086, 'beatClass': 'S', 'beatShape': 60, 'modifyFlag': 0, 'removeFlag': 0, 'noise': 0}\n",
      "{'analysisBeatClassifyId': 198509, 'seconds': 15153.633, 'beatClass': 'S', 'beatShape': 62, 'modifyFlag': 0, 'removeFlag': 0, 'noise': 0}\n",
      "{'analysisBeatClassifyId': 198587, 'seconds': 15188.75, 'beatClass': 'S', 'beatShape': 41, 'modifyFlag': 0, 'removeFlag': 0, 'noise': 0}\n",
      "{'analysisBeatClassifyId': 198594, 'seconds': 15191.652, 'beatClass': 'S', 'beatShape': 41, 'modifyFlag': 0, 'removeFlag': 0, 'noise': 0}\n",
      "{'analysisBeatClassifyId': 198597, 'seconds': 15192.883, 'beatClass': 'S', 'beatShape': 36, 'modifyFlag': 0, 'removeFlag': 0, 'noise': 0}\n",
      "{'analysisBeatClassifyId': 198669, 'seconds': 15220.66, 'beatClass': 'S', 'beatShape': 36, 'modifyFlag': 0, 'removeFlag': 0, 'noise': 0}\n",
      "{'analysisBeatClassifyId': 198674, 'seconds': 15222.563, 'beatClass': 'S', 'beatShape': 41, 'modifyFlag': 0, 'removeFlag': 0, 'noise': 0}\n",
      "{'analysisBeatClassifyId': 198679, 'seconds': 15224.488, 'beatClass': 'S', 'beatShape': 42, 'modifyFlag': 0, 'removeFlag': 0, 'noise': 0}\n",
      "{'analysisBeatClassifyId': 198820, 'seconds': 15281.48, 'beatClass': 'S', 'beatShape': 53, 'modifyFlag': 0, 'removeFlag': 0, 'noise': 0}\n",
      "{'analysisBeatClassifyId': 198825, 'seconds': 15283.602, 'beatClass': 'S', 'beatShape': 36, 'modifyFlag': 0, 'removeFlag': 0, 'noise': 0}\n",
      "{'analysisBeatClassifyId': 198918, 'seconds': 15320.195, 'beatClass': 'S', 'beatShape': 53, 'modifyFlag': 0, 'removeFlag': 0, 'noise': 0}\n",
      "{'analysisBeatClassifyId': 198926, 'seconds': 15323.281, 'beatClass': 'S', 'beatShape': 36, 'modifyFlag': 0, 'removeFlag': 0, 'noise': 0}\n",
      "{'analysisBeatClassifyId': 198931, 'seconds': 15325.18, 'beatClass': 'S', 'beatShape': 50, 'modifyFlag': 0, 'removeFlag': 0, 'noise': 0}\n",
      "{'analysisBeatClassifyId': 199035, 'seconds': 15374.27, 'beatClass': 'S', 'beatShape': 60, 'modifyFlag': 0, 'removeFlag': 0, 'noise': 0}\n",
      "{'analysisBeatClassifyId': 199036, 'seconds': 15374.727, 'beatClass': 'S', 'beatShape': 60, 'modifyFlag': 0, 'removeFlag': 0, 'noise': 0}\n",
      "{'analysisBeatClassifyId': 199037, 'seconds': 15375.184, 'beatClass': 'S', 'beatShape': 60, 'modifyFlag': 0, 'removeFlag': 0, 'noise': 0}\n",
      "{'analysisBeatClassifyId': 199038, 'seconds': 15375.637, 'beatClass': 'S', 'beatShape': 56, 'modifyFlag': 0, 'removeFlag': 0, 'noise': 0}\n",
      "{'analysisBeatClassifyId': 199039, 'seconds': 15376.098, 'beatClass': 'S', 'beatShape': 60, 'modifyFlag': 0, 'removeFlag': 0, 'noise': 0}\n",
      "{'analysisBeatClassifyId': 199040, 'seconds': 15376.559, 'beatClass': 'S', 'beatShape': 27, 'modifyFlag': 0, 'removeFlag': 0, 'noise': 0}\n",
      "{'analysisBeatClassifyId': 199041, 'seconds': 15377.02, 'beatClass': 'S', 'beatShape': 61, 'modifyFlag': 0, 'removeFlag': 0, 'noise': 0}\n",
      "{'analysisBeatClassifyId': 199042, 'seconds': 15377.477, 'beatClass': 'S', 'beatShape': 61, 'modifyFlag': 0, 'removeFlag': 0, 'noise': 0}\n",
      "{'analysisBeatClassifyId': 199043, 'seconds': 15377.934, 'beatClass': 'S', 'beatShape': 61, 'modifyFlag': 0, 'removeFlag': 0, 'noise': 0}\n",
      "{'analysisBeatClassifyId': 199044, 'seconds': 15378.391, 'beatClass': 'S', 'beatShape': 57, 'modifyFlag': 0, 'removeFlag': 0, 'noise': 0}\n",
      "{'analysisBeatClassifyId': 199045, 'seconds': 15378.852, 'beatClass': 'S', 'beatShape': 61, 'modifyFlag': 0, 'removeFlag': 0, 'noise': 0}\n",
      "{'analysisBeatClassifyId': 199046, 'seconds': 15379.305, 'beatClass': 'S', 'beatShape': 61, 'modifyFlag': 0, 'removeFlag': 0, 'noise': 0}\n",
      "{'analysisBeatClassifyId': 199047, 'seconds': 15379.762, 'beatClass': 'S', 'beatShape': 57, 'modifyFlag': 0, 'removeFlag': 0, 'noise': 0}\n",
      "{'analysisBeatClassifyId': 199048, 'seconds': 15380.219, 'beatClass': 'S', 'beatShape': 61, 'modifyFlag': 0, 'removeFlag': 0, 'noise': 0}\n",
      "{'analysisBeatClassifyId': 199049, 'seconds': 15380.68, 'beatClass': 'S', 'beatShape': 60, 'modifyFlag': 0, 'removeFlag': 0, 'noise': 0}\n",
      "{'analysisBeatClassifyId': 199050, 'seconds': 15381.137, 'beatClass': 'S', 'beatShape': 63, 'modifyFlag': 0, 'removeFlag': 0, 'noise': 0}\n",
      "{'analysisBeatClassifyId': 199051, 'seconds': 15381.598, 'beatClass': 'S', 'beatShape': 40, 'modifyFlag': 0, 'removeFlag': 0, 'noise': 0}\n",
      "{'analysisBeatClassifyId': 199052, 'seconds': 15382.063, 'beatClass': 'S', 'beatShape': 60, 'modifyFlag': 0, 'removeFlag': 0, 'noise': 0}\n",
      "{'analysisBeatClassifyId': 199053, 'seconds': 15382.527, 'beatClass': 'S', 'beatShape': 61, 'modifyFlag': 0, 'removeFlag': 0, 'noise': 0}\n",
      "{'analysisBeatClassifyId': 199054, 'seconds': 15383.004, 'beatClass': 'S', 'beatShape': 60, 'modifyFlag': 0, 'removeFlag': 0, 'noise': 0}\n",
      "{'analysisBeatClassifyId': 199055, 'seconds': 15383.488, 'beatClass': 'S', 'beatShape': 60, 'modifyFlag': 0, 'removeFlag': 0, 'noise': 0}\n",
      "{'analysisBeatClassifyId': 199056, 'seconds': 15383.977, 'beatClass': 'S', 'beatShape': 60, 'modifyFlag': 0, 'removeFlag': 0, 'noise': 0}\n",
      "{'analysisBeatClassifyId': 199057, 'seconds': 15384.473, 'beatClass': 'S', 'beatShape': 27, 'modifyFlag': 0, 'removeFlag': 0, 'noise': 0}\n",
      "{'analysisBeatClassifyId': 199058, 'seconds': 15384.969, 'beatClass': 'S', 'beatShape': 57, 'modifyFlag': 0, 'removeFlag': 0, 'noise': 0}\n",
      "{'analysisBeatClassifyId': 199059, 'seconds': 15385.465, 'beatClass': 'S', 'beatShape': 61, 'modifyFlag': 0, 'removeFlag': 0, 'noise': 0}\n",
      "{'analysisBeatClassifyId': 199060, 'seconds': 15385.965, 'beatClass': 'S', 'beatShape': 61, 'modifyFlag': 0, 'removeFlag': 0, 'noise': 0}\n",
      "{'analysisBeatClassifyId': 199061, 'seconds': 15386.465, 'beatClass': 'S', 'beatShape': 57, 'modifyFlag': 0, 'removeFlag': 0, 'noise': 0}\n",
      "{'analysisBeatClassifyId': 199062, 'seconds': 15386.957, 'beatClass': 'S', 'beatShape': 57, 'modifyFlag': 0, 'removeFlag': 0, 'noise': 0}\n",
      "{'analysisBeatClassifyId': 199063, 'seconds': 15387.445, 'beatClass': 'S', 'beatShape': 57, 'modifyFlag': 0, 'removeFlag': 0, 'noise': 0}\n",
      "{'analysisBeatClassifyId': 199064, 'seconds': 15387.938, 'beatClass': 'S', 'beatShape': 61, 'modifyFlag': 0, 'removeFlag': 0, 'noise': 0}\n",
      "{'analysisBeatClassifyId': 199066, 'seconds': 15388.75, 'beatClass': 'S', 'beatShape': 36, 'modifyFlag': 0, 'removeFlag': 0, 'noise': 0}\n",
      "{'analysisBeatClassifyId': 199088, 'seconds': 15399.324, 'beatClass': 'S', 'beatShape': 40, 'modifyFlag': 0, 'removeFlag': 0, 'noise': 0}\n",
      "{'analysisBeatClassifyId': 199091, 'seconds': 15400.871, 'beatClass': 'S', 'beatShape': 53, 'modifyFlag': 0, 'removeFlag': 0, 'noise': 0}\n",
      "{'analysisBeatClassifyId': 199287, 'seconds': 15503.262, 'beatClass': 'S', 'beatShape': 36, 'modifyFlag': 0, 'removeFlag': 0, 'noise': 0}\n",
      "{'analysisBeatClassifyId': 199314, 'seconds': 15518.914, 'beatClass': 'S', 'beatShape': 40, 'modifyFlag': 0, 'removeFlag': 0, 'noise': 0}\n"
     ]
    }
   ],
   "source": [
    "print('POST request %s' % URL_API_ANALYSIS)\n",
    "res = requests.post(URL_API_ANALYSIS, data=TEXT_ANALYSIS, headers=HEADERS)\n",
    "res_code = res.status_code\n",
    "res_result = False\n",
    "response_dic = {}\n",
    "if res_code == 200:\n",
    "    try:\n",
    "        response_dic = json.loads(res.text)\n",
    "        if 'error' in response_dic.keys():     \n",
    "            if response_dic[\"error\"] == 0:\n",
    "                res_result = True\n",
    "                analysis_list = response_dic[\"analysisBeatClassifySimpleList\"]\n",
    "\n",
    "    except (ValueError, TypeError) as e:\n",
    "        print (\"post exception : \", e)\n",
    "        print (res.text)\n",
    "elif res_code == 404:\n",
    "    print (\"send error - 404, Retry send cancel.\")\n",
    "\n",
    "print (res_result, res_code)\n",
    "# print (analysis_list)\n",
    "for beat in analysis_list:\n",
    "    if beat['beatClass'] != 'N':\n",
    "        print(beat)"
   ]
  },
  {
   "cell_type": "code",
   "execution_count": null,
   "metadata": {},
   "outputs": [],
   "source": []
  }
 ],
 "metadata": {
  "kernelspec": {
   "display_name": "Python 3",
   "language": "python",
   "name": "python3"
  },
  "language_info": {
   "codemirror_mode": {
    "name": "ipython",
    "version": 3
   },
   "file_extension": ".py",
   "mimetype": "text/x-python",
   "name": "python",
   "nbconvert_exporter": "python",
   "pygments_lexer": "ipython3",
   "version": "3.6.8"
  }
 },
 "nbformat": 4,
 "nbformat_minor": 4
}

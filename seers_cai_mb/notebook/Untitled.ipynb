{
 "cells": [
  {
   "cell_type": "code",
   "execution_count": 66,
   "metadata": {},
   "outputs": [],
   "source": [
    "import os\n",
    "import sys\n",
    "import numpy as np\n",
    "import pandas as pd"
   ]
  },
  {
   "cell_type": "code",
   "execution_count": 57,
   "metadata": {},
   "outputs": [],
   "source": [
    "df_mc100 = pd.DataFrame()"
   ]
  },
  {
   "cell_type": "code",
   "execution_count": 75,
   "metadata": {},
   "outputs": [
    {
     "name": "stdout",
     "output_type": "stream",
     "text": [
      "measurementId          int32\n",
      "measurementCode       object\n",
      "measurementStatus      int32\n",
      "registerUserId         int32\n",
      "organizationId         int32\n",
      "patientCode           object\n",
      "startDateTime         object\n",
      "endDateTime           object\n",
      "downloadDateTime      object\n",
      "ECGUrl                object\n",
      "fileSize               int32\n",
      "sampling               int32\n",
      "gain                 float32\n",
      "endian                 int32\n",
      "analysisUrl           object\n",
      "storePath             object\n",
      "pridictStatus         object\n",
      "makeDatasetStatus     object\n",
      "dtype: object\n"
     ]
    },
    {
     "data": {
      "text/html": [
       "<div>\n",
       "<style scoped>\n",
       "    .dataframe tbody tr th:only-of-type {\n",
       "        vertical-align: middle;\n",
       "    }\n",
       "\n",
       "    .dataframe tbody tr th {\n",
       "        vertical-align: top;\n",
       "    }\n",
       "\n",
       "    .dataframe thead th {\n",
       "        text-align: right;\n",
       "    }\n",
       "</style>\n",
       "<table border=\"1\" class=\"dataframe\">\n",
       "  <thead>\n",
       "    <tr style=\"text-align: right;\">\n",
       "      <th></th>\n",
       "      <th>measurementId</th>\n",
       "      <th>measurementCode</th>\n",
       "      <th>measurementStatus</th>\n",
       "      <th>registerUserId</th>\n",
       "      <th>organizationId</th>\n",
       "      <th>patientCode</th>\n",
       "      <th>startDateTime</th>\n",
       "      <th>endDateTime</th>\n",
       "      <th>downloadDateTime</th>\n",
       "      <th>ECGUrl</th>\n",
       "      <th>fileSize</th>\n",
       "      <th>sampling</th>\n",
       "      <th>gain</th>\n",
       "      <th>endian</th>\n",
       "      <th>analysisUrl</th>\n",
       "      <th>storePath</th>\n",
       "      <th>pridictStatus</th>\n",
       "      <th>makeDatasetStatus</th>\n",
       "    </tr>\n",
       "  </thead>\n",
       "  <tbody>\n",
       "  </tbody>\n",
       "</table>\n",
       "</div>"
      ],
      "text/plain": [
       "Empty DataFrame\n",
       "Columns: [measurementId, measurementCode, measurementStatus, registerUserId, organizationId, patientCode, startDateTime, endDateTime, downloadDateTime, ECGUrl, fileSize, sampling, gain, endian, analysisUrl, storePath, pridictStatus, makeDatasetStatus]\n",
       "Index: []"
      ]
     },
     "execution_count": 75,
     "metadata": {},
     "output_type": "execute_result"
    }
   ],
   "source": [
    "dic_schema = {'measurementId':np.array([], dtype='i'),\n",
    "            'measurementCode': np.array([], dtype='S'),\n",
    "            'measurementStatus': np.array([], dtype='i'),\n",
    "            'registerUserId': np.array([], dtype='i'),\n",
    "            'organizationId': np.array([], dtype='i'),\n",
    "            'patientCode': np.array([], dtype='S'),\n",
    "            'startDateTime': np.array([], dtype='S'),\n",
    "            'endDateTime': np.array([], dtype='S'),\n",
    "            'downloadDateTime': np.array([], dtype='S'),\n",
    "            'ECGUrl': np.array([], dtype='S'),\n",
    "            'fileSize': np.array([], dtype='i'),\n",
    "            'sampling': np.array([], dtype='i'),\n",
    "            'gain': np.array([], dtype='f'),\n",
    "            'endian': np.array([], dtype='i'),\n",
    "            'analysisUrl':np.array([], dtype='S'),\n",
    "            'storePath': np.array([], dtype='S'),\n",
    "            'pridictStatus': np.array([], dtype='S'),\n",
    "            'makeDatasetStatus': np.array([], dtype='S')}\n",
    "df_mc100 = pd.DataFrame(dic_schema)\n",
    "print (df_mc100.dtypes)\n",
    "df_mc100"
   ]
  },
  {
   "cell_type": "code",
   "execution_count": 80,
   "metadata": {},
   "outputs": [],
   "source": [
    "dic_record = {'measurementId':349,\n",
    "            'measurementCode': 'SN191018MC100_P007',\n",
    "            'measurementStatus': 7, \n",
    "            'registerUserId': 21, \n",
    "            'organizationId': 8, \n",
    "            'patientCode': None, \n",
    "            'startDateTime': '2019-10-18 13:30:40', \n",
    "            'endDateTime': '2019-10-18 14:01:39', \n",
    "            'downloadDateTime': '2019-10-19 14:01:39', \n",
    "            'ECGUrl': 'http://13.125.86.65:8080/mobiCARE/cardio/Measurement/DownloadECGFile/SN191018MC100_P007:823',\n",
    "            'fileSize': 952064,\n",
    "            'sampling': 256,\n",
    "            'gain': 100.0,\n",
    "            'endian': 1,\n",
    "            'analysisUrl':'http://13.125.86.65:8080/mobiCARE/cardio/Analysis/DownloadAnalysisOutputFile/SN191016MC100_P003:19128',\n",
    "            'storePath': '/home/nsc/seers/cardio/database/mc100/SN191016MC100_P003',\n",
    "            'pridictStatus': False,\n",
    "            'makeDatasetStatus': False}"
   ]
  },
  {
   "cell_type": "code",
   "execution_count": 100,
   "metadata": {},
   "outputs": [
    {
     "data": {
      "text/plain": [
       "False"
      ]
     },
     "execution_count": 100,
     "metadata": {},
     "output_type": "execute_result"
    }
   ],
   "source": [
    "'measurementId' not in dic_record.keys()"
   ]
  },
  {
   "cell_type": "code",
   "execution_count": 81,
   "metadata": {},
   "outputs": [],
   "source": [
    "df_mc100 = df_mc100.append(dic_record, ignore_index=True)"
   ]
  },
  {
   "cell_type": "code",
   "execution_count": 93,
   "metadata": {},
   "outputs": [
    {
     "data": {
      "text/plain": [
       "0"
      ]
     },
     "execution_count": 93,
     "metadata": {},
     "output_type": "execute_result"
    }
   ],
   "source": [
    "df_mc100.loc[df_mc100['measurementId'] == 350].index.size"
   ]
  },
  {
   "cell_type": "code",
   "execution_count": 95,
   "metadata": {},
   "outputs": [
    {
     "name": "stdout",
     "output_type": "stream",
     "text": [
      "Int64Index([1], dtype='int64')\n"
     ]
    }
   ],
   "source": [
    "if df_mc100.loc[df_mc100['measurementId'] == 349].index.size is not 0 :\n",
    "    print (df_mc100.loc[df_mc100['measurementId'] == 349].index)"
   ]
  },
  {
   "cell_type": "code",
   "execution_count": 85,
   "metadata": {},
   "outputs": [
    {
     "data": {
      "text/plain": [
       "[1]"
      ]
     },
     "execution_count": 85,
     "metadata": {},
     "output_type": "execute_result"
    }
   ],
   "source": [
    "df_mc100.query('measurementId == 349').index.tolist() "
   ]
  },
  {
   "cell_type": "code",
   "execution_count": 79,
   "metadata": {},
   "outputs": [
    {
     "data": {
      "text/html": [
       "<div>\n",
       "<style scoped>\n",
       "    .dataframe tbody tr th:only-of-type {\n",
       "        vertical-align: middle;\n",
       "    }\n",
       "\n",
       "    .dataframe tbody tr th {\n",
       "        vertical-align: top;\n",
       "    }\n",
       "\n",
       "    .dataframe thead th {\n",
       "        text-align: right;\n",
       "    }\n",
       "</style>\n",
       "<table border=\"1\" class=\"dataframe\">\n",
       "  <thead>\n",
       "    <tr style=\"text-align: right;\">\n",
       "      <th></th>\n",
       "      <th>measurementId</th>\n",
       "      <th>measurementCode</th>\n",
       "      <th>measurementStatus</th>\n",
       "      <th>registerUserId</th>\n",
       "      <th>organizationId</th>\n",
       "      <th>patientCode</th>\n",
       "      <th>startDateTime</th>\n",
       "      <th>endDateTime</th>\n",
       "      <th>downloadDateTime</th>\n",
       "      <th>ECGUrl</th>\n",
       "      <th>fileSize</th>\n",
       "      <th>sampling</th>\n",
       "      <th>gain</th>\n",
       "      <th>endian</th>\n",
       "      <th>analysisUrl</th>\n",
       "      <th>storePath</th>\n",
       "      <th>pridictStatus</th>\n",
       "      <th>makeDatasetStatus</th>\n",
       "    </tr>\n",
       "  </thead>\n",
       "  <tbody>\n",
       "    <tr>\n",
       "      <th>0</th>\n",
       "      <td>348</td>\n",
       "      <td>SN191018MC100_P007</td>\n",
       "      <td>7</td>\n",
       "      <td>21</td>\n",
       "      <td>8</td>\n",
       "      <td>None</td>\n",
       "      <td>2019-10-18 13:30:40</td>\n",
       "      <td>2019-10-18 14:01:39</td>\n",
       "      <td>2019-10-19 14:01:39</td>\n",
       "      <td>http://13.125.86.65:8080/mobiCARE/cardio/Measu...</td>\n",
       "      <td>952064</td>\n",
       "      <td>256</td>\n",
       "      <td>100.0</td>\n",
       "      <td>1</td>\n",
       "      <td>http://13.125.86.65:8080/mobiCARE/cardio/Analy...</td>\n",
       "      <td>/home/nsc/seers/cardio/database/mc100/SN191016...</td>\n",
       "      <td>False</td>\n",
       "      <td>False</td>\n",
       "    </tr>\n",
       "  </tbody>\n",
       "</table>\n",
       "</div>"
      ],
      "text/plain": [
       "   measurementId     measurementCode  measurementStatus  registerUserId  \\\n",
       "0            348  SN191018MC100_P007                  7              21   \n",
       "\n",
       "   organizationId patientCode        startDateTime          endDateTime  \\\n",
       "0               8        None  2019-10-18 13:30:40  2019-10-18 14:01:39   \n",
       "\n",
       "      downloadDateTime                                             ECGUrl  \\\n",
       "0  2019-10-19 14:01:39  http://13.125.86.65:8080/mobiCARE/cardio/Measu...   \n",
       "\n",
       "   fileSize  sampling   gain  endian  \\\n",
       "0    952064       256  100.0       1   \n",
       "\n",
       "                                         analysisUrl  \\\n",
       "0  http://13.125.86.65:8080/mobiCARE/cardio/Analy...   \n",
       "\n",
       "                                           storePath pridictStatus  \\\n",
       "0  /home/nsc/seers/cardio/database/mc100/SN191016...         False   \n",
       "\n",
       "  makeDatasetStatus  \n",
       "0             False  "
      ]
     },
     "execution_count": 79,
     "metadata": {},
     "output_type": "execute_result"
    }
   ],
   "source": [
    "df_mc100"
   ]
  },
  {
   "cell_type": "code",
   "execution_count": null,
   "metadata": {},
   "outputs": [],
   "source": []
  }
 ],
 "metadata": {
  "kernelspec": {
   "display_name": "Python 3",
   "language": "python",
   "name": "python3"
  },
  "language_info": {
   "codemirror_mode": {
    "name": "ipython",
    "version": 3
   },
   "file_extension": ".py",
   "mimetype": "text/x-python",
   "name": "python",
   "nbconvert_exporter": "python",
   "pygments_lexer": "ipython3",
   "version": "3.6.8"
  }
 },
 "nbformat": 4,
 "nbformat_minor": 4
}
